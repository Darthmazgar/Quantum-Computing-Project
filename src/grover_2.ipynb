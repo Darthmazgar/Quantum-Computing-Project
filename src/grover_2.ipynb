{
 "cells": [
  {
   "cell_type": "code",
   "execution_count": 9,
   "metadata": {},
   "outputs": [],
   "source": [
    "import numpy as np\n",
    "from numpy.linalg import norm\n",
    "import cmath\n",
    "import math\n",
    "import matplotlib.pyplot as plt\n",
    "from oracle import *\n",
    "from grover_phase import *\n",
    "try:\n",
    "    from src.sparse_matrix import SparseMatrix\n",
    "    from src.quantum_register import QuantumRegister\n",
    "    from src.quantum_operator import Operator\n",
    "    from src.operators import *\n",
    "except:\n",
    "    from sparse_matrix import SparseMatrix\n",
    "    from quantum_register import QuantumRegister\n",
    "    from quantum_operator import Operator\n",
    "    from operators import *\n",
    "\n",
    "\n",
    "class Grover:\n",
    "    def __init__(self, n_qubits, target_state = None):\n",
    "        self.n_qubits = n_qubits\n",
    "        self.target_state = target_state\n",
    "        self.qr = None\n",
    "        self.D = None\n",
    "        self.oricle = None\n",
    "\n",
    "    def build_quantum_register(self):\n",
    "        self.qr = QuantumRegister(self.n_qubits)\n",
    "        return self.qr\n",
    "\n",
    "    def print_register(self):\n",
    "        print(self.qr)\n",
    "\n",
    "    def init_register(self):\n",
    "        h = H(self.n_qubits)\n",
    "        x = X(self.n_qubits)\n",
    "        h2 = H(self.n_qubits)\n",
    "        empty_register = QuantumRegister(self.n_qubits)\n",
    "        self.qr = h * self.qr\n",
    "#         aux = h * x * empty_register\n",
    "#         self.qr = self.qr * aux\n",
    "        return self.qr\n",
    "\n",
    "    def init_reflection_matrix(self):\n",
    "        h = H(self.n_qubits)\n",
    "        i = I()\n",
    "        x = X(self.n_qubits)\n",
    "#         cnot = CNOT(2*self.n_qubits)\n",
    "        a = (h)\n",
    "        b = (x)\n",
    "        c = G_Phase(self.n_qubits)\n",
    "        d = (x)\n",
    "        e = (h)\n",
    "        self.D = h * c * h\n",
    "        return self.D\n",
    "\n",
    "    def gen_oracle(self):\n",
    "        self.oracle = Oracle(self.n_qubits)\n",
    "        return self.oracle\n",
    "\n",
    "    def run(self, k):\n",
    "        # k is the number of tagged states\n",
    "#         runs = round( ((math.pi / 4) / math.sqrt(k)) * 2**(self.n_qubits / 2)) \n",
    "        runs = round(math.sqrt(self.n_qubits/k))\n",
    "#         print(runs)\n",
    "        for i in range(runs):\n",
    "            self.qr = self.oracle * self.qr\n",
    "            self.qr = self.D * self.qr\n",
    "            self.qr.normalize()\n",
    "#             self.qr.plotRegister()\n",
    "        result = self.qr.measure()\n",
    "        return result\n"
   ]
  },
  {
   "cell_type": "code",
   "execution_count": 10,
   "metadata": {},
   "outputs": [],
   "source": [
    "def runG():\n",
    "    \n",
    "    g = Grover(3)\n",
    "\n",
    "    g.build_quantum_register()\n",
    "\n",
    "    g.init_register()\n",
    "\n",
    "    g.init_reflection_matrix()\n",
    "\n",
    "    g.gen_oracle()\n",
    "\n",
    "    \n",
    "    \n",
    "    return g.run(2)"
   ]
  },
  {
   "cell_type": "code",
   "execution_count": 11,
   "metadata": {
    "scrolled": true
   },
   "outputs": [
    {
     "data": {
      "image/png": "[encoded data removed]",
      "text/plain": [
       "<matplotlib.figure.Figure at 0x10f75bbe0>"
      ]
     },
     "metadata": {},
     "output_type": "display_data"
    }
   ],
   "source": [
    "x = []\n",
    "\n",
    "for i in range(0,1000):\n",
    "    \n",
    "    x.append(runG())\n",
    "    \n",
    "\n",
    "# print(x)\n",
    "\n",
    "bins = np.arange(0, max(x) + 1.5) - 0.5\n",
    "\n",
    "x = np.array(x)\n",
    "\n",
    "plt.hist(x)\n",
    "plt.show()"
   ]
  },
  {
   "cell_type": "code",
   "execution_count": 2,
   "metadata": {},
   "outputs": [
    {
     "name": "stdout",
     "output_type": "stream",
     "text": [
      "(-0.35+0.00j)*|000> (+0.35+0.00j)*|001> (+0.35+0.00j)*|010> (+0.35+0.00j)*|011> (+0.35+0.00j)*|100> (-0.35+0.00j)*|101> (+0.35+0.00j)*|110> (+0.35+0.00j)*|111> \n"
     ]
    }
   ],
   "source": [
    "test = QuantumRegister(3,[1,1,1,1,1,1,1,1])\n",
    "\n",
    "o = Oracle(3)\n",
    "\n",
    "print(o*test)"
   ]
  },
  {
   "cell_type": "code",
   "execution_count": null,
   "metadata": {
    "collapsed": true
   },
   "outputs": [],
   "source": []
  }
 ],
 "metadata": {
  "kernelspec": {
   "display_name": "Python 3",
   "language": "python",
   "name": "python3"
  },
  "language_info": {
   "codemirror_mode": {
    "name": "ipython",
    "version": 3
   },
   "file_extension": ".py",
   "mimetype": "text/x-python",
   "name": "python",
   "nbconvert_exporter": "python",
   "pygments_lexer": "ipython3",
   "version": "3.6.1"
  }
 },
 "nbformat": 4,
 "nbformat_minor": 2
}
