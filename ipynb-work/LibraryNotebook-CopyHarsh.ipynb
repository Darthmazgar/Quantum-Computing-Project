{
 "cells": [
  {
   "cell_type": "code",
   "execution_count": 3,
   "metadata": {
    "collapsed": true
   },
   "outputs": [],
   "source": [
    "import numpy as np\n",
    "import cmath"
   ]
  },
  {
   "cell_type": "markdown",
   "metadata": {},
   "source": []
  },
  {
   "cell_type": "code",
   "execution_count": 121,
   "metadata": {
    "collapsed": true
   },
   "outputs": [],
   "source": [
    "#Store qubit state\n",
    "#n is number of qubits \n",
    "\n",
    "n = 2\n",
    "\n",
    "class QuntumRegister:\n",
    "    \n",
    "    def __init__(self,n_qbits = 1, base_state_ = None):\n",
    "        \n",
    "        self.n_states = n_qbits**2\n",
    "        self.n_qbits = n_qbits\n",
    "        \n",
    "        if base_state_ == None:\n",
    "            \n",
    "            self.state_ = np.zeros(2**n,dtype=np.complex)\n",
    "            self.state_[0] = 1.0\n",
    "            \n",
    "        else:\n",
    "            self.state_ = np.array(base_state_, dtype = np.complex)\n",
    "            \n",
    "        self.normalize()\n",
    "        \n",
    "    def setState(self,state_):\n",
    "        \n",
    "        norm = 0\n",
    "        \n",
    "        if len(state_) == len(self.state_):\n",
    "            \n",
    "            self.state_ = np.array(state_,dtype=np.complex)\n",
    "            self.normalize()\n",
    "       \n",
    "        else:\n",
    "            \n",
    "            raise ValueError(\n",
    "                'Length of states is incorrect!'\n",
    "                )\n",
    "    \n",
    "    def measure(self, doPrint = False):\n",
    "        \n",
    "        probabilities_ = abs(self.state_) **2\n",
    "    \n",
    "        state =  int (np.random.choice(self.n_states, p=probabilities_))\n",
    "        \n",
    "        if doPrint:\n",
    "            \n",
    "            print(\"The measured state is: |\" + np.binary_repr(i, self.n_qbits) +\">\")\n",
    "        \n",
    "        return state\n",
    "    \n",
    "    def __str__(self):\n",
    "        \n",
    "        rep = ''\n",
    "\n",
    "        if self.state_[0] != 0:\n",
    "            rep = '({0:+.2f})'.format(self.state_[0]) + \"*|\" + np.binary_repr(0, self.n_qbits) + \"> \"\n",
    "        else:\n",
    "            rep = ''\n",
    "\n",
    "        for i in range(1, len(self.state_)):\n",
    "            if self.state_[i] == 0:\n",
    "                continue\n",
    "            rep = rep + '({0:+.2f})'.format(self.state_[i]) + \"*|\" + np.binary_repr(i, self.n_qbits) + \"> \"\n",
    "\n",
    "        return rep\n",
    "        \n",
    "    def normalize(self):\n",
    "        \n",
    "        norm = 0\n",
    "        \n",
    "        for amp in self.state_:\n",
    "            \n",
    "            norm += abs(amp)**2\n",
    "            \n",
    "        self.state_ = (1/cmath.sqrt(norm))*self.state_\n",
    "        \n"
   ]
  },
  {
   "cell_type": "code",
   "execution_count": null,
   "metadata": {},
   "outputs": [],
   "source": []
  },
  {
   "cell_type": "code",
   "execution_count": 125,
   "metadata": {},
   "outputs": [
    {
     "name": "stdout",
     "output_type": "stream",
     "text": [
      "(+0.24+0.00j)*|000> (+0.12+0.00j)*|001> (+0.12+0.00j)*|010> (+0.12+0.00j)*|011> (+0.61+0.00j)*|100> (+0.73+0.00j)*|101> \n"
     ]
    }
   ],
   "source": [
    "reg1 = QuntumRegister(3,[2,1,1,1,5,6])\n",
    "\n",
    "# reg1.setState([1,4,0,3])\n",
    "\n",
    "\n",
    "print(reg1)"
   ]
  },
  {
   "cell_type": "markdown",
   "metadata": {},
   "source": [
    "These numbers all need to be complex ***** look into how to do this ./\n",
    "*** Done ***"
   ]
  },
  {
   "cell_type": "markdown",
   "metadata": {},
   "source": [
    "Create class for sparse matrices"
   ]
  },
  {
   "cell_type": "code",
   "execution_count": 112,
   "metadata": {
    "collapsed": true
   },
   "outputs": [],
   "source": [
    "class SparseMatrix:\n",
    "    \n",
    "    #n and m give the dimensions of the matrix\n",
    "    def __init__(self,n):\n",
    "        \n",
    "        self.length = n\n",
    "#         self.width = m\n",
    "        self.elements = {}\n",
    "        \n",
    "        return \n",
    "    \n",
    "    def setElement(self,i,j,m):\n",
    "        \n",
    "#         elem = [i,j,m]\n",
    "        self.elements.update({(i,j) : m})\n",
    "    \n",
    "    \n",
    "    def transpose(self):\n",
    "        \n",
    "        return \n",
    "    \n",
    "    \n",
    "    def __str__(self):\n",
    "        \n",
    "        rep = ''\n",
    "        \n",
    "        for i in range(1,n+1):\n",
    "            \n",
    "            row = ''\n",
    "            for j in range(1,n+1):\n",
    "                \n",
    "                if (i,j) in self.elements:\n",
    "                    \n",
    "                    row += str(self.elements[(i,j)])+'\\t'\n",
    "                    \n",
    "                else:\n",
    "                    \n",
    "                    row += str(0)+'\\t'\n",
    "                    \n",
    "            rep += row + '\\n'\n",
    "                \n",
    "        \n",
    "        return rep\n",
    "        \n",
    "            \n",
    "    \n",
    "    # Define inner product\n",
    "    @staticmethod\n",
    "    def inner(m1,m2):\n",
    "        \n",
    "        return \n",
    "    \n",
    "    #Define outer product\n",
    "    @staticmethod\n",
    "    def outer(m1,m2):\n",
    "        \n",
    "        return \n",
    "    \n",
    "    @staticmethod\n",
    "    def add(m1,m2):\n",
    "        \n",
    "        return \n",
    "    \n",
    "    "
   ]
  },
  {
   "cell_type": "markdown",
   "metadata": {},
   "source": [
    "Then write methods to return the specific gates"
   ]
  },
  {
   "cell_type": "code",
   "execution_count": null,
   "metadata": {},
   "outputs": [],
   "source": []
  },
  {
   "cell_type": "markdown",
   "metadata": {},
   "source": [
    "Define Basic Gates "
   ]
  },
  {
   "cell_type": "code",
   "execution_count": 113,
   "metadata": {
    "collapsed": true
   },
   "outputs": [],
   "source": [
    "def Hgate():\n",
    "    \n",
    "    HGate = SparseMatrix(2)\n",
    "    \n",
    "    norm = cmath.sqrt(1.0/2.0)\n",
    "    norm = 1\n",
    "    \n",
    "#     HGate.setElement(1,1,norm*(1+0j))\n",
    "    HGate.setElement(1,2,norm*(1+0j))\n",
    "    HGate.setElement(2,1,norm*(1+0j))\n",
    "    HGate.setElement(2,2,norm*(-1+0j))\n",
    "    \n",
    "    print(HGate)"
   ]
  },
  {
   "cell_type": "code",
   "execution_count": 114,
   "metadata": {},
   "outputs": [
    {
     "name": "stdout",
     "output_type": "stream",
     "text": [
      "0\t(1+0j)\t\n",
      "(1+0j)\t(-1+0j)\t\n",
      "\n"
     ]
    }
   ],
   "source": [
    "Hgate()"
   ]
  },
  {
   "cell_type": "code",
   "execution_count": null,
   "metadata": {},
   "outputs": [],
   "source": []
  },
  {
   "cell_type": "code",
   "execution_count": null,
   "metadata": {},
   "outputs": [],
   "source": []
  },
  {
   "cell_type": "code",
   "execution_count": null,
   "metadata": {
    "collapsed": true
   },
   "outputs": [],
   "source": []
  }
 ],
 "metadata": {
  "kernelspec": {
   "display_name": "Python 3",
   "language": "python",
   "name": "python3"
  },
  "language_info": {
   "codemirror_mode": {
    "name": "ipython",
    "version": 3
   },
   "file_extension": ".py",
   "mimetype": "text/x-python",
   "name": "python",
   "nbconvert_exporter": "python",
   "pygments_lexer": "ipython3",
   "version": "3.6.1"
  }
 },
 "nbformat": 4,
 "nbformat_minor": 2
}
