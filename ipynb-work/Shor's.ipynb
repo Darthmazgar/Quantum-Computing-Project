{
 "cells": [
  {
   "cell_type": "code",
   "execution_count": 1,
   "metadata": {
    "collapsed": true
   },
   "outputs": [],
   "source": [
    "import numpy as np\n",
    "from numpy.linalg import norm\n",
    "import cmath\n",
    "import math\n",
    "import random\n",
    "import matplotlib.pyplot as plt\n",
    "try:\n",
    "    from src.sparse_matrix import SparseMatrix\n",
    "    from src.quantum_register import QuantumRegister\n",
    "    from src.quantum_operator import Operator\n",
    "    from src.operators import *\n",
    "except:\n",
    "    from sparse_matrix import SparseMatrix\n",
    "    from quantum_register import QuantumRegister\n",
    "    from quantum_operator import Operator\n",
    "    from operators import *\n",
    "\n",
    "    \n",
    "    \n",
    "def UaGate(N,m,t_qubits):\n",
    "    \n",
    "    l_qubits = round(math.sqrt(N))+1\n",
    "    \n",
    "    tot_qubits = t_qubits+l_qubits\n",
    "    \n",
    "    QR3 = QuantumRegister(tot_qubits)\n",
    "    \n",
    "    QR3.setState([0]*(2**tot_qubits))\n",
    "    \n",
    "    second_reg_vals_  = []\n",
    "    \n",
    "    for i in range(2**t_qubits):\n",
    "        \n",
    "        res = int(np.mod(m**i, N))\n",
    "        \n",
    "        QR1 = QuantumRegister(t_qubits)\n",
    "        QR2 = QuantumRegister(l_qubits)\n",
    "        \n",
    "        state_1 = np.zeros(2**t_qubits)\n",
    "        state_2 = np.zeros(2**l_qubits)\n",
    "        \n",
    "        state_1[i] = 1\n",
    "        state_2[res] = 1\n",
    "        \n",
    "        QR1.setState(state_1)\n",
    "        QR2.setState(state_2)\n",
    "        \n",
    "        QR3 = QR3 + (QR1*QR2)\n",
    "        \n",
    "        second_reg_vals_ += [res]\n",
    "        \n",
    "    second_reg_vals_ = np.array(second_reg_vals_)\n",
    "    \n",
    "    second_reg_vals_ = np.unique(second_reg_vals_)\n",
    "    \n",
    "    print(second_reg_vals_)\n",
    "    \n",
    "    QR3.normalize()\n",
    "    \n",
    "    return QR3,second_reg_vals_\n",
    "\n",
    "def measure_second_reg(N,m,t_qubits,second_reg_vals_):\n",
    "    \n",
    "    mes_val = random.choice(second_reg_vals_)\n",
    "    \n",
    "    QR1 = QuantumRegister(t_qubits)\n",
    "    \n",
    "    state_1 = np.zeros(2**t_qubits)\n",
    "    \n",
    "    for i in range(2**t_qubits):\n",
    "        \n",
    "        res = int(np.mod(m**i, N))\n",
    "        \n",
    "        if res == mes_val:\n",
    "            \n",
    "            state_1[i] = 1\n",
    "            \n",
    "    QR1.setState(state_1)\n",
    "    \n",
    "    return QR1,mes_val\n",
    "    \n",
    "    \n",
    "    \n",
    "\n"
   ]
  },
  {
   "cell_type": "code",
   "execution_count": 3,
   "metadata": {
    "scrolled": true
   },
   "outputs": [
    {
     "name": "stdout",
     "output_type": "stream",
     "text": [
      "[ 1 15]\n"
     ]
    }
   ],
   "source": [
    "a,c = UaGate(21,15,8)\n",
    "\n"
   ]
  },
  {
   "cell_type": "code",
   "execution_count": 4,
   "metadata": {
    "collapsed": true
   },
   "outputs": [],
   "source": [
    "qr,mes_val = measure_second_reg(21,15,8,c)\n",
    "\n",
    "# qr.plotRegister()"
   ]
  },
  {
   "cell_type": "code",
   "execution_count": 5,
   "metadata": {
    "collapsed": true
   },
   "outputs": [],
   "source": [
    "ft = invQFT(8) * qr"
   ]
  },
  {
   "cell_type": "code",
   "execution_count": 6,
   "metadata": {},
   "outputs": [
    {
     "data": {
      "image/png": "[encoded data removed]",
      "text/plain": [
       "<matplotlib.figure.Figure at 0x10bfb10f0>"
      ]
     },
     "metadata": {},
     "output_type": "display_data"
    }
   ],
   "source": [
    "ft.plotRegister()"
   ]
  },
  {
   "cell_type": "code",
   "execution_count": null,
   "metadata": {
    "collapsed": true
   },
   "outputs": [],
   "source": []
  },
  {
   "cell_type": "code",
   "execution_count": 143,
   "metadata": {
    "collapsed": true
   },
   "outputs": [],
   "source": [
    "ft2 = (invQFT(8)%I(3)) * a"
   ]
  },
  {
   "cell_type": "code",
   "execution_count": 157,
   "metadata": {},
   "outputs": [
    {
     "data": {
      "text/plain": [
       "4"
      ]
     },
     "execution_count": 157,
     "metadata": {},
     "output_type": "execute_result"
    }
   ],
   "source": [
    "ft2.measure()"
   ]
  },
  {
   "cell_type": "code",
   "execution_count": 12,
   "metadata": {},
   "outputs": [
    {
     "name": "stdout",
     "output_type": "stream",
     "text": [
      "97\n"
     ]
    }
   ],
   "source": [
    "mes_ = []\n",
    "for  i in range(1,100):\n",
    "    \n",
    "    mes_ += [ft.measure()]\n",
    "    \n",
    "    \n",
    "counts = np.bincount(mes_)\n",
    "print(np.argmax(counts))"
   ]
  },
  {
   "cell_type": "code",
   "execution_count": 2,
   "metadata": {
    "collapsed": true
   },
   "outputs": [],
   "source": [
    "def QFT(n_qubits):\n",
    "    \n",
    "    n = n_qubits\n",
    "    \n",
    "    QFT = H(1) % I(n - 1)\n",
    "    \n",
    "    for j in range(1,n):\n",
    "        \n",
    "        base = R_phi(2*math.pi/(2**(j+1)))\n",
    "        c_r = CUGate(base, empty_qw= j - 1, reverse= True) \n",
    "        \n",
    "        if j != n-1:\n",
    "            \n",
    "            c_r = c_r % I(n - j - 1)\n",
    "        \n",
    "        QFT = c_r * QFT\n",
    "        \n",
    "    for i in range(1,n-1):\n",
    "        \n",
    "        QFT = (I(i) % H(1) % I(n - i - 1)) * QFT\n",
    "        \n",
    "        for j in range(1,n-i):\n",
    "            \n",
    "            base = R_phi(2*math.pi/(2**(j+1)))\n",
    "            c_r = I(i) % CUGate(base, empty_qw= j - 1, reverse= True) \n",
    "            \n",
    "            if j != n-i-1:\n",
    "                \n",
    "                c_r = c_r % I(n - i - j - 1)\n",
    "                \n",
    "            \n",
    "            QFT = c_r * QFT\n",
    "            \n",
    "    \n",
    "    QFT = (I(n-1) % H(1)) * QFT\n",
    "\n",
    "#     QFT = QFT.getHermTranspose()\n",
    "    \n",
    "    return QFT\n",
    "    \n",
    "   \n",
    "    \n",
    "def invQFT(n_qubits):\n",
    "    \n",
    "    return QFT(n_qubits).getHermTranspose()\n",
    "    "
   ]
  },
  {
   "cell_type": "code",
   "execution_count": 50,
   "metadata": {},
   "outputs": [
    {
     "data": {
      "text/plain": [
       "147"
      ]
     },
     "execution_count": 50,
     "metadata": {},
     "output_type": "execute_result"
    }
   ],
   "source": [
    "ft.measure()"
   ]
  },
  {
   "cell_type": "code",
   "execution_count": 9,
   "metadata": {},
   "outputs": [
    {
     "name": "stdout",
     "output_type": "stream",
     "text": [
      "5\n"
     ]
    }
   ],
   "source": [
    "a = [1,2,2,3,4,5,5,5,6]\n",
    "\n",
    "counts = np.bincount(a)\n",
    "print(np.argmax(counts))"
   ]
  },
  {
   "cell_type": "code",
   "execution_count": 140,
   "metadata": {},
   "outputs": [
    {
     "data": {
      "text/plain": [
       "2"
      ]
     },
     "execution_count": 140,
     "metadata": {},
     "output_type": "execute_result"
    }
   ],
   "source": [
    "round(math.sqrt(6))"
   ]
  },
  {
   "cell_type": "code",
   "execution_count": 13,
   "metadata": {},
   "outputs": [
    {
     "data": {
      "text/plain": [
       "1"
      ]
     },
     "execution_count": 13,
     "metadata": {},
     "output_type": "execute_result"
    }
   ],
   "source": [
    "math.gcd(97,256)"
   ]
  },
  {
   "cell_type": "code",
   "execution_count": 11,
   "metadata": {},
   "outputs": [
    {
     "data": {
      "text/plain": [
       "3"
      ]
     },
     "execution_count": 11,
     "metadata": {},
     "output_type": "execute_result"
    }
   ],
   "source": [
    "math.gcd(4**(int(256/8))-1,6)"
   ]
  },
  {
   "cell_type": "code",
   "execution_count": 115,
   "metadata": {},
   "outputs": [
    {
     "data": {
      "text/plain": [
       "2"
      ]
     },
     "execution_count": 115,
     "metadata": {},
     "output_type": "execute_result"
    }
   ],
   "source": []
  },
  {
   "cell_type": "code",
   "execution_count": 167,
   "metadata": {},
   "outputs": [
    {
     "data": {
      "text/plain": [
       "1024"
      ]
     },
     "execution_count": 167,
     "metadata": {},
     "output_type": "execute_result"
    }
   ],
   "source": []
  },
  {
   "cell_type": "code",
   "execution_count": 17,
   "metadata": {},
   "outputs": [
    {
     "data": {
      "text/plain": [
       "1"
      ]
     },
     "execution_count": 17,
     "metadata": {},
     "output_type": "execute_result"
    }
   ],
   "source": [
    "math.gcd(15**(int(256/(2*1)))+1,21)"
   ]
  },
  {
   "cell_type": "code",
   "execution_count": 164,
   "metadata": {},
   "outputs": [
    {
     "data": {
      "text/plain": [
       "14"
      ]
     },
     "execution_count": 164,
     "metadata": {},
     "output_type": "execute_result"
    }
   ],
   "source": [
    "np.mod(-1, 15)"
   ]
  },
  {
   "cell_type": "code",
   "execution_count": 171,
   "metadata": {},
   "outputs": [
    {
     "data": {
      "text/plain": [
       "7"
      ]
     },
     "execution_count": 171,
     "metadata": {},
     "output_type": "execute_result"
    }
   ],
   "source": [
    "np.mod(7**(int(2048/(2*1024))),15)"
   ]
  },
  {
   "cell_type": "code",
   "execution_count": null,
   "metadata": {
    "collapsed": true
   },
   "outputs": [],
   "source": []
  }
 ],
 "metadata": {
  "kernelspec": {
   "display_name": "Python 3",
   "language": "python",
   "name": "python3"
  },
  "language_info": {
   "codemirror_mode": {
    "name": "ipython",
    "version": 3
   },
   "file_extension": ".py",
   "mimetype": "text/x-python",
   "name": "python",
   "nbconvert_exporter": "python",
   "pygments_lexer": "ipython3",
   "version": "3.6.1"
  }
 },
 "nbformat": 4,
 "nbformat_minor": 2
}
