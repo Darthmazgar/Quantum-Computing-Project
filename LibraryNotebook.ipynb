{
 "cells": [
  {
   "cell_type": "code",
   "execution_count": 7,
   "metadata": {
    "collapsed": true
   },
   "outputs": [],
   "source": [
    "import numpy as np\n",
    "import cmath"
   ]
  },
  {
   "cell_type": "markdown",
   "metadata": {},
   "source": []
  },
  {
   "cell_type": "code",
   "execution_count": 35,
   "metadata": {
    "collapsed": true
   },
   "outputs": [],
   "source": [
    "#Store qubit state\n",
    "#n is number of qubits \n",
    "\n",
    "n = 2\n",
    "\n",
    "class qbitstate:\n",
    "    \n",
    "    def __init__(self,n):\n",
    "        \n",
    "        self.state = np.zeros(2**n,dtype=np.complex)\n",
    "        \n",
    "    def setstate(self,st):\n",
    "        \n",
    "        norm = 0\n",
    "        \n",
    "        for i in range(0,len(st)):\n",
    "            \n",
    "            norm += abs(st[i])\n",
    "            self.state[i] = st[i]\n",
    "            \n",
    "        self.state = (1/cmath.sqrt(norm))*self.state\n"
   ]
  },
  {
   "cell_type": "code",
   "execution_count": 60,
   "metadata": {},
   "outputs": [
    {
     "data": {
      "text/plain": [
       "array([0.70710678+0.j, 0.        +0.j, 0.        +0.j, 0.70710678+0.j])"
      ]
     },
     "execution_count": 60,
     "metadata": {},
     "output_type": "execute_result"
    }
   ],
   "source": [
    "state = qbitstate(2)\n",
    "\n",
    "state.setstate([1,0,0,1])\n",
    "\n",
    "state.state"
   ]
  },
  {
   "cell_type": "markdown",
   "metadata": {},
   "source": [
    "These numbers all need to be complex ***** look into how to do this ./\n",
    "*** Done ***"
   ]
  },
  {
   "cell_type": "markdown",
   "metadata": {},
   "source": [
    "Create class for sparse matrices"
   ]
  },
  {
   "cell_type": "code",
   "execution_count": 79,
   "metadata": {},
   "outputs": [],
   "source": [
    "class SparseMatrix:\n",
    "    \n",
    "    #n and m give the dimensions of the matrix\n",
    "    def __init__(self,n):\n",
    "        \n",
    "        self.length = n\n",
    "#         self.width = m\n",
    "        self.elements = {}\n",
    "        \n",
    "        return \n",
    "    \n",
    "    def setElement(self,i,j,m):\n",
    "        \n",
    "#         elem = [i,j,m]\n",
    "        self.elements.update({(i,j) : m})\n",
    "    \n",
    "    \n",
    "    def transpose(self):\n",
    "        \n",
    "        return \n",
    "    \n",
    "    \n",
    "    def printMatrix(self):\n",
    "        \n",
    "        for i in range(1,n+1):\n",
    "            for j in range(1,n+1):\n",
    "                \n",
    "                if (i,j) in self.elements:\n",
    "                    \n",
    "                    print(self.elements[(i,j)], '\\t')\n",
    "                    \n",
    "                else:\n",
    "                    \n",
    "                    print(0,'\\t')\n",
    "                    \n",
    "                \n",
    "            print('\\n')\n",
    "        \n",
    "            \n",
    "    \n",
    "    # Define inner product\n",
    "    @staticmethod\n",
    "    def inner(m1,m2):\n",
    "        \n",
    "        return \n",
    "    \n",
    "    #Define outer product\n",
    "    @staticmethod\n",
    "    def outer(m1,m2):\n",
    "        \n",
    "        return \n",
    "    \n",
    "    @staticmethod\n",
    "    def add(m1,m2):\n",
    "        \n",
    "        return \n",
    "    \n",
    "    "
   ]
  },
  {
   "cell_type": "markdown",
   "metadata": {},
   "source": [
    "Then write methods to return the specific gates"
   ]
  },
  {
   "cell_type": "code",
   "execution_count": 24,
   "metadata": {},
   "outputs": [
    {
     "data": {
      "text/plain": [
       "(3+0j)"
      ]
     },
     "execution_count": 24,
     "metadata": {},
     "output_type": "execute_result"
    }
   ],
   "source": [
    "cmath.sqrt(9)"
   ]
  },
  {
   "cell_type": "markdown",
   "metadata": {},
   "source": [
    "Define Basic Gates "
   ]
  },
  {
   "cell_type": "code",
   "execution_count": 80,
   "metadata": {
    "collapsed": true
   },
   "outputs": [],
   "source": [
    "def Hgate():\n",
    "    \n",
    "    HGate = SparseMatrix(2)\n",
    "    \n",
    "    norm = cmath.sqrt(1.0/2.0)\n",
    "    norm = 1\n",
    "    \n",
    "    HGate.setElement(1,1,norm*(1+0j))\n",
    "    HGate.setElement(1,2,norm*(1+0j))\n",
    "    HGate.setElement(2,1,norm*(1+0j))\n",
    "    HGate.setElement(2,2,norm*(-1+0j))\n",
    "    \n",
    "    HGate.printMatrix()"
   ]
  },
  {
   "cell_type": "code",
   "execution_count": 81,
   "metadata": {},
   "outputs": [
    {
     "name": "stdout",
     "output_type": "stream",
     "text": [
      "(1+0j) \t\n",
      "(1+0j) \t\n",
      "\n",
      "\n",
      "(1+0j) \t\n",
      "(-1+0j) \t\n",
      "\n",
      "\n"
     ]
    }
   ],
   "source": [
    "Hgate()"
   ]
  },
  {
   "cell_type": "code",
   "execution_count": 65,
   "metadata": {},
   "outputs": [
    {
     "name": "stdout",
     "output_type": "stream",
     "text": [
      "g\n"
     ]
    }
   ],
   "source": [
    "dict = {(1,2): 'g',\n",
    "       (1,1) : 'h'}\n",
    "\n",
    "if (1,2) in dict:\n",
    "    \n",
    "    print(dict[(1,2)])"
   ]
  },
  {
   "cell_type": "code",
   "execution_count": 83,
   "metadata": {},
   "outputs": [
    {
     "name": "stdout",
     "output_type": "stream",
     "text": [
      "g \t h\n"
     ]
    }
   ],
   "source": [
    "print(\"g\" , '\\t', 'h')"
   ]
  },
  {
   "cell_type": "code",
   "execution_count": null,
   "metadata": {
    "collapsed": true
   },
   "outputs": [],
   "source": []
  }
 ],
 "metadata": {
  "kernelspec": {
   "display_name": "Python 3",
   "language": "python",
   "name": "python3"
  },
  "language_info": {
   "codemirror_mode": {
    "name": "ipython",
    "version": 3
   },
   "file_extension": ".py",
   "mimetype": "text/x-python",
   "name": "python",
   "nbconvert_exporter": "python",
   "pygments_lexer": "ipython3",
   "version": "3.6.1"
  }
 },
 "nbformat": 4,
 "nbformat_minor": 2
}
